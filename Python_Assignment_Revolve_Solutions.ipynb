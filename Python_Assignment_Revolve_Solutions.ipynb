{
 "cells": [
  {
   "cell_type": "code",
   "execution_count": 8,
   "metadata": {},
   "outputs": [
    {
     "name": "stdout",
     "output_type": "stream",
     "text": [
      "Requirement already satisfied: nb_black in c:\\users\\91770\\anaconda3\\lib\\site-packages (1.0.7)Note: you may need to restart the kernel to use updated packages.\n",
      "Requirement already satisfied: black>='19.3'; python_version >= \"3.6\" in c:\\users\\91770\\anaconda3\\lib\\site-packages (from nb_black) (22.1.0)\n",
      "Requirement already satisfied: ipython in c:\\users\\91770\\anaconda3\\lib\\site-packages (from nb_black) (7.19.0)\n",
      "Requirement already satisfied: mypy-extensions>=0.4.3 in c:\\users\\91770\\anaconda3\\lib\\site-packages (from black>='19.3'; python_version >= \"3.6\"->nb_black) (0.4.3)\n",
      "Requirement already satisfied: platformdirs>=2 in c:\\users\\91770\\anaconda3\\lib\\site-packages (from black>='19.3'; python_version >= \"3.6\"->nb_black) (2.5.1)\n",
      "Requirement already satisfied: click>=8.0.0 in c:\\users\\91770\\anaconda3\\lib\\site-packages (from black>='19.3'; python_version >= \"3.6\"->nb_black) (8.0.4)\n",
      "Requirement already satisfied: pathspec>=0.9.0 in c:\\users\\91770\\anaconda3\\lib\\site-packages (from black>='19.3'; python_version >= \"3.6\"->nb_black) (0.9.0)\n",
      "Requirement already satisfied: typing-extensions>=3.10.0.0; python_version < \"3.10\" in c:\\users\\91770\\anaconda3\\lib\\site-packages (from black>='19.3'; python_version >= \"3.6\"->nb_black) (4.1.1)\n",
      "Requirement already satisfied: tomli>=1.1.0 in c:\\users\\91770\\anaconda3\\lib\\site-packages (from black>='19.3'; python_version >= \"3.6\"->nb_black) (2.0.1)\n",
      "Requirement already satisfied: jedi>=0.10 in c:\\users\\91770\\anaconda3\\lib\\site-packages (from ipython->nb_black) (0.17.1)\n",
      "Requirement already satisfied: prompt-toolkit!=3.0.0,!=3.0.1,<3.1.0,>=2.0.0 in c:\\users\\91770\\anaconda3\\lib\\site-packages (from ipython->nb_black) (3.0.8)\n",
      "Requirement already satisfied: decorator in c:\\users\\91770\\anaconda3\\lib\\site-packages (from ipython->nb_black) (4.4.2)\n",
      "Requirement already satisfied: backcall in c:\\users\\91770\\anaconda3\\lib\\site-packages (from ipython->nb_black) (0.2.0)\n",
      "Requirement already satisfied: setuptools>=18.5 in c:\\users\\91770\\anaconda3\\lib\\site-packages (from ipython->nb_black) (50.3.1.post20201107)\n",
      "Requirement already satisfied: pygments in c:\\users\\91770\\anaconda3\\lib\\site-packages (from ipython->nb_black) (2.7.2)\n",
      "Requirement already satisfied: colorama; sys_platform == \"win32\" in c:\\users\\91770\\anaconda3\\lib\\site-packages (from ipython->nb_black) (0.4.4)\n",
      "Requirement already satisfied: pickleshare in c:\\users\\91770\\anaconda3\\lib\\site-packages (from ipython->nb_black) (0.7.5)\n",
      "Requirement already satisfied: traitlets>=4.2 in c:\\users\\91770\\anaconda3\\lib\\site-packages (from ipython->nb_black) (5.0.5)\n",
      "Requirement already satisfied: parso<0.8.0,>=0.7.0 in c:\\users\\91770\\anaconda3\\lib\\site-packages (from jedi>=0.10->ipython->nb_black) (0.7.0)\n",
      "Requirement already satisfied: wcwidth in c:\\users\\91770\\anaconda3\\lib\\site-packages (from prompt-toolkit!=3.0.0,!=3.0.1,<3.1.0,>=2.0.0->ipython->nb_black) (0.2.5)\n",
      "Requirement already satisfied: ipython-genutils in c:\\users\\91770\\anaconda3\\lib\\site-packages (from traitlets>=4.2->ipython->nb_black) (0.2.0)\n",
      "\n",
      "The nb_black extension is already loaded. To reload it, use:\n",
      "  %reload_ext nb_black\n",
      "Requirement already satisfied: jupyterlab-lsp in c:\\users\\91770\\anaconda3\\lib\\site-packages (3.10.0)Note: you may need to restart the kernel to use updated packages.\n"
     ]
    },
    {
     "data": {
      "application/javascript": [
       "\n",
       "            setTimeout(function() {\n",
       "                var nbb_cell_id = 8;\n",
       "                var nbb_unformatted_code = \"import pandas as pd\\nimport numpy as np\\n\\n%pip install nb_black\\n%load_ext nb_black\\n%pip install jupyterlab-lsp\";\n",
       "                var nbb_formatted_code = \"import pandas as pd\\nimport numpy as np\\n\\n%pip install nb_black\\n%load_ext nb_black\\n%pip install jupyterlab-lsp\";\n",
       "                var nbb_cells = Jupyter.notebook.get_cells();\n",
       "                for (var i = 0; i < nbb_cells.length; ++i) {\n",
       "                    if (nbb_cells[i].input_prompt_number == nbb_cell_id) {\n",
       "                        if (nbb_cells[i].get_text() == nbb_unformatted_code) {\n",
       "                             nbb_cells[i].set_text(nbb_formatted_code);\n",
       "                        }\n",
       "                        break;\n",
       "                    }\n",
       "                }\n",
       "            }, 500);\n",
       "            "
      ],
      "text/plain": [
       "<IPython.core.display.Javascript object>"
      ]
     },
     "metadata": {},
     "output_type": "display_data"
    },
    {
     "name": "stdout",
     "output_type": "stream",
     "text": [
      "\n",
      "Requirement already satisfied: jupyterlab<4.0.0a0,>=3.1.0 in c:\\users\\91770\\anaconda3\\lib\\site-packages (from jupyterlab-lsp) (3.3.2)\n",
      "Requirement already satisfied: jupyter-lsp>=1.4.0 in c:\\users\\91770\\anaconda3\\lib\\site-packages (from jupyterlab-lsp) (1.5.1)\n",
      "Requirement already satisfied: nbclassic~=0.2 in c:\\users\\91770\\anaconda3\\lib\\site-packages (from jupyterlab<4.0.0a0,>=3.1.0->jupyterlab-lsp) (0.3.7)\n",
      "Requirement already satisfied: ipython in c:\\users\\91770\\anaconda3\\lib\\site-packages (from jupyterlab<4.0.0a0,>=3.1.0->jupyterlab-lsp) (7.19.0)\n",
      "Requirement already satisfied: packaging in c:\\users\\91770\\anaconda3\\lib\\site-packages (from jupyterlab<4.0.0a0,>=3.1.0->jupyterlab-lsp) (20.4)\n",
      "Requirement already satisfied: jupyterlab-server~=2.10 in c:\\users\\91770\\anaconda3\\lib\\site-packages (from jupyterlab<4.0.0a0,>=3.1.0->jupyterlab-lsp) (2.11.1)\n",
      "Requirement already satisfied: tornado>=6.1.0 in c:\\users\\91770\\anaconda3\\lib\\site-packages (from jupyterlab<4.0.0a0,>=3.1.0->jupyterlab-lsp) (6.1)\n",
      "Requirement already satisfied: jupyter-core in c:\\users\\91770\\anaconda3\\lib\\site-packages (from jupyterlab<4.0.0a0,>=3.1.0->jupyterlab-lsp) (4.6.3)\n",
      "Requirement already satisfied: jinja2>=2.1 in c:\\users\\91770\\anaconda3\\lib\\site-packages (from jupyterlab<4.0.0a0,>=3.1.0->jupyterlab-lsp) (2.11.2)\n",
      "Requirement already satisfied: jupyter-server~=1.4 in c:\\users\\91770\\anaconda3\\lib\\site-packages (from jupyterlab<4.0.0a0,>=3.1.0->jupyterlab-lsp) (1.15.6)\n",
      "Requirement already satisfied: entrypoints in c:\\users\\91770\\anaconda3\\lib\\site-packages (from jupyter-lsp>=1.4.0->jupyterlab-lsp) (0.3)\n",
      "Requirement already satisfied: notebook-shim>=0.1.0 in c:\\users\\91770\\anaconda3\\lib\\site-packages (from nbclassic~=0.2->jupyterlab<4.0.0a0,>=3.1.0->jupyterlab-lsp) (0.1.0)\n",
      "Requirement already satisfied: notebook<7 in c:\\users\\91770\\anaconda3\\lib\\site-packages (from nbclassic~=0.2->jupyterlab<4.0.0a0,>=3.1.0->jupyterlab-lsp) (6.1.4)\n",
      "Requirement already satisfied: prompt-toolkit!=3.0.0,!=3.0.1,<3.1.0,>=2.0.0 in c:\\users\\91770\\anaconda3\\lib\\site-packages (from ipython->jupyterlab<4.0.0a0,>=3.1.0->jupyterlab-lsp) (3.0.8)\n",
      "Requirement already satisfied: backcall in c:\\users\\91770\\anaconda3\\lib\\site-packages (from ipython->jupyterlab<4.0.0a0,>=3.1.0->jupyterlab-lsp) (0.2.0)\n",
      "Requirement already satisfied: setuptools>=18.5 in c:\\users\\91770\\anaconda3\\lib\\site-packages (from ipython->jupyterlab<4.0.0a0,>=3.1.0->jupyterlab-lsp) (50.3.1.post20201107)\n",
      "Requirement already satisfied: colorama; sys_platform == \"win32\" in c:\\users\\91770\\anaconda3\\lib\\site-packages (from ipython->jupyterlab<4.0.0a0,>=3.1.0->jupyterlab-lsp) (0.4.4)\n",
      "Requirement already satisfied: traitlets>=4.2 in c:\\users\\91770\\anaconda3\\lib\\site-packages (from ipython->jupyterlab<4.0.0a0,>=3.1.0->jupyterlab-lsp) (5.0.5)\n",
      "Requirement already satisfied: decorator in c:\\users\\91770\\anaconda3\\lib\\site-packages (from ipython->jupyterlab<4.0.0a0,>=3.1.0->jupyterlab-lsp) (4.4.2)\n",
      "Requirement already satisfied: jedi>=0.10 in c:\\users\\91770\\anaconda3\\lib\\site-packages (from ipython->jupyterlab<4.0.0a0,>=3.1.0->jupyterlab-lsp) (0.17.1)\n",
      "Requirement already satisfied: pygments in c:\\users\\91770\\anaconda3\\lib\\site-packages (from ipython->jupyterlab<4.0.0a0,>=3.1.0->jupyterlab-lsp) (2.7.2)\n",
      "Requirement already satisfied: pickleshare in c:\\users\\91770\\anaconda3\\lib\\site-packages (from ipython->jupyterlab<4.0.0a0,>=3.1.0->jupyterlab-lsp) (0.7.5)\n",
      "Requirement already satisfied: six in c:\\users\\91770\\anaconda3\\lib\\site-packages (from packaging->jupyterlab<4.0.0a0,>=3.1.0->jupyterlab-lsp) (1.15.0)\n",
      "Requirement already satisfied: pyparsing>=2.0.2 in c:\\users\\91770\\anaconda3\\lib\\site-packages (from packaging->jupyterlab<4.0.0a0,>=3.1.0->jupyterlab-lsp) (2.4.7)\n",
      "Requirement already satisfied: json5 in c:\\users\\91770\\anaconda3\\lib\\site-packages (from jupyterlab-server~=2.10->jupyterlab<4.0.0a0,>=3.1.0->jupyterlab-lsp) (0.9.5)\n",
      "Requirement already satisfied: requests in c:\\users\\91770\\anaconda3\\lib\\site-packages (from jupyterlab-server~=2.10->jupyterlab<4.0.0a0,>=3.1.0->jupyterlab-lsp) (2.24.0)\n",
      "Requirement already satisfied: babel in c:\\users\\91770\\anaconda3\\lib\\site-packages (from jupyterlab-server~=2.10->jupyterlab<4.0.0a0,>=3.1.0->jupyterlab-lsp) (2.8.1)\n",
      "Requirement already satisfied: jsonschema>=3.0.1 in c:\\users\\91770\\anaconda3\\lib\\site-packages (from jupyterlab-server~=2.10->jupyterlab<4.0.0a0,>=3.1.0->jupyterlab-lsp) (3.2.0)\n",
      "Requirement already satisfied: pywin32>=1.0; sys_platform == \"win32\" in c:\\users\\91770\\anaconda3\\lib\\site-packages (from jupyter-core->jupyterlab<4.0.0a0,>=3.1.0->jupyterlab-lsp) (227)\n",
      "Requirement already satisfied: MarkupSafe>=0.23 in c:\\users\\91770\\anaconda3\\lib\\site-packages (from jinja2>=2.1->jupyterlab<4.0.0a0,>=3.1.0->jupyterlab-lsp) (1.1.1)\n",
      "Requirement already satisfied: prometheus-client in c:\\users\\91770\\anaconda3\\lib\\site-packages (from jupyter-server~=1.4->jupyterlab<4.0.0a0,>=3.1.0->jupyterlab-lsp) (0.8.0)\n",
      "Requirement already satisfied: Send2Trash in c:\\users\\91770\\anaconda3\\lib\\site-packages (from jupyter-server~=1.4->jupyterlab<4.0.0a0,>=3.1.0->jupyterlab-lsp) (1.5.0)\n",
      "Requirement already satisfied: nbformat>=5.2.0 in c:\\users\\91770\\anaconda3\\lib\\site-packages (from jupyter-server~=1.4->jupyterlab<4.0.0a0,>=3.1.0->jupyterlab-lsp) (5.2.0)\n",
      "Requirement already satisfied: terminado>=0.8.3 in c:\\users\\91770\\anaconda3\\lib\\site-packages (from jupyter-server~=1.4->jupyterlab<4.0.0a0,>=3.1.0->jupyterlab-lsp) (0.9.1)\n",
      "Requirement already satisfied: pyzmq>=17 in c:\\users\\91770\\anaconda3\\lib\\site-packages (from jupyter-server~=1.4->jupyterlab<4.0.0a0,>=3.1.0->jupyterlab-lsp) (19.0.2)\n",
      "Requirement already satisfied: jupyter-client>=6.1.1 in c:\\users\\91770\\anaconda3\\lib\\site-packages (from jupyter-server~=1.4->jupyterlab<4.0.0a0,>=3.1.0->jupyterlab-lsp) (6.1.7)\n",
      "Requirement already satisfied: pywinpty; os_name == \"nt\" in c:\\users\\91770\\anaconda3\\lib\\site-packages (from jupyter-server~=1.4->jupyterlab<4.0.0a0,>=3.1.0->jupyterlab-lsp) (0.5.7)\n",
      "Requirement already satisfied: argon2-cffi in c:\\users\\91770\\anaconda3\\lib\\site-packages (from jupyter-server~=1.4->jupyterlab<4.0.0a0,>=3.1.0->jupyterlab-lsp) (20.1.0)\n",
      "Requirement already satisfied: nbconvert in c:\\users\\91770\\anaconda3\\lib\\site-packages (from jupyter-server~=1.4->jupyterlab<4.0.0a0,>=3.1.0->jupyterlab-lsp) (6.0.7)\n",
      "Requirement already satisfied: websocket-client in c:\\users\\91770\\anaconda3\\lib\\site-packages (from jupyter-server~=1.4->jupyterlab<4.0.0a0,>=3.1.0->jupyterlab-lsp) (1.3.1)\n",
      "Requirement already satisfied: anyio>=3.1.0 in c:\\users\\91770\\anaconda3\\lib\\site-packages (from jupyter-server~=1.4->jupyterlab<4.0.0a0,>=3.1.0->jupyterlab-lsp) (3.5.0)\n",
      "Requirement already satisfied: ipython-genutils in c:\\users\\91770\\anaconda3\\lib\\site-packages (from notebook<7->nbclassic~=0.2->jupyterlab<4.0.0a0,>=3.1.0->jupyterlab-lsp) (0.2.0)\n",
      "Requirement already satisfied: ipykernel in c:\\users\\91770\\anaconda3\\lib\\site-packages (from notebook<7->nbclassic~=0.2->jupyterlab<4.0.0a0,>=3.1.0->jupyterlab-lsp) (5.3.4)\n",
      "Requirement already satisfied: wcwidth in c:\\users\\91770\\anaconda3\\lib\\site-packages (from prompt-toolkit!=3.0.0,!=3.0.1,<3.1.0,>=2.0.0->ipython->jupyterlab<4.0.0a0,>=3.1.0->jupyterlab-lsp) (0.2.5)\n",
      "Requirement already satisfied: parso<0.8.0,>=0.7.0 in c:\\users\\91770\\anaconda3\\lib\\site-packages (from jedi>=0.10->ipython->jupyterlab<4.0.0a0,>=3.1.0->jupyterlab-lsp) (0.7.0)\n",
      "Requirement already satisfied: chardet<4,>=3.0.2 in c:\\users\\91770\\anaconda3\\lib\\site-packages (from requests->jupyterlab-server~=2.10->jupyterlab<4.0.0a0,>=3.1.0->jupyterlab-lsp) (3.0.4)\n",
      "Requirement already satisfied: idna<3,>=2.5 in c:\\users\\91770\\anaconda3\\lib\\site-packages (from requests->jupyterlab-server~=2.10->jupyterlab<4.0.0a0,>=3.1.0->jupyterlab-lsp) (2.10)\n",
      "Requirement already satisfied: urllib3!=1.25.0,!=1.25.1,<1.26,>=1.21.1 in c:\\users\\91770\\anaconda3\\lib\\site-packages (from requests->jupyterlab-server~=2.10->jupyterlab<4.0.0a0,>=3.1.0->jupyterlab-lsp) (1.25.11)\n",
      "Requirement already satisfied: certifi>=2017.4.17 in c:\\users\\91770\\anaconda3\\lib\\site-packages (from requests->jupyterlab-server~=2.10->jupyterlab<4.0.0a0,>=3.1.0->jupyterlab-lsp) (2020.6.20)\n",
      "Requirement already satisfied: pytz>=2015.7 in c:\\users\\91770\\anaconda3\\lib\\site-packages (from babel->jupyterlab-server~=2.10->jupyterlab<4.0.0a0,>=3.1.0->jupyterlab-lsp) (2020.1)\n",
      "Requirement already satisfied: attrs>=17.4.0 in c:\\users\\91770\\anaconda3\\lib\\site-packages (from jsonschema>=3.0.1->jupyterlab-server~=2.10->jupyterlab<4.0.0a0,>=3.1.0->jupyterlab-lsp) (20.3.0)\n",
      "Requirement already satisfied: pyrsistent>=0.14.0 in c:\\users\\91770\\anaconda3\\lib\\site-packages (from jsonschema>=3.0.1->jupyterlab-server~=2.10->jupyterlab<4.0.0a0,>=3.1.0->jupyterlab-lsp) (0.17.3)\n",
      "Requirement already satisfied: python-dateutil>=2.1 in c:\\users\\91770\\anaconda3\\lib\\site-packages (from jupyter-client>=6.1.1->jupyter-server~=1.4->jupyterlab<4.0.0a0,>=3.1.0->jupyterlab-lsp) (2.8.1)\n",
      "Requirement already satisfied: cffi>=1.0.0 in c:\\users\\91770\\anaconda3\\lib\\site-packages (from argon2-cffi->jupyter-server~=1.4->jupyterlab<4.0.0a0,>=3.1.0->jupyterlab-lsp) (1.14.3)\n",
      "Requirement already satisfied: defusedxml in c:\\users\\91770\\anaconda3\\lib\\site-packages (from nbconvert->jupyter-server~=1.4->jupyterlab<4.0.0a0,>=3.1.0->jupyterlab-lsp) (0.6.0)\n",
      "Requirement already satisfied: nbclient<0.6.0,>=0.5.0 in c:\\users\\91770\\anaconda3\\lib\\site-packages (from nbconvert->jupyter-server~=1.4->jupyterlab<4.0.0a0,>=3.1.0->jupyterlab-lsp) (0.5.1)\n",
      "Requirement already satisfied: jupyterlab-pygments in c:\\users\\91770\\anaconda3\\lib\\site-packages (from nbconvert->jupyter-server~=1.4->jupyterlab<4.0.0a0,>=3.1.0->jupyterlab-lsp) (0.1.2)\n",
      "Requirement already satisfied: pandocfilters>=1.4.1 in c:\\users\\91770\\anaconda3\\lib\\site-packages (from nbconvert->jupyter-server~=1.4->jupyterlab<4.0.0a0,>=3.1.0->jupyterlab-lsp) (1.4.3)\n",
      "Requirement already satisfied: bleach in c:\\users\\91770\\anaconda3\\lib\\site-packages (from nbconvert->jupyter-server~=1.4->jupyterlab<4.0.0a0,>=3.1.0->jupyterlab-lsp) (3.2.1)\n",
      "Requirement already satisfied: testpath in c:\\users\\91770\\anaconda3\\lib\\site-packages (from nbconvert->jupyter-server~=1.4->jupyterlab<4.0.0a0,>=3.1.0->jupyterlab-lsp) (0.4.4)\n",
      "Requirement already satisfied: mistune<2,>=0.8.1 in c:\\users\\91770\\anaconda3\\lib\\site-packages (from nbconvert->jupyter-server~=1.4->jupyterlab<4.0.0a0,>=3.1.0->jupyterlab-lsp) (0.8.4)\n",
      "Requirement already satisfied: sniffio>=1.1 in c:\\users\\91770\\anaconda3\\lib\\site-packages (from anyio>=3.1.0->jupyter-server~=1.4->jupyterlab<4.0.0a0,>=3.1.0->jupyterlab-lsp) (1.2.0)\n",
      "Requirement already satisfied: pycparser in c:\\users\\91770\\anaconda3\\lib\\site-packages (from cffi>=1.0.0->argon2-cffi->jupyter-server~=1.4->jupyterlab<4.0.0a0,>=3.1.0->jupyterlab-lsp) (2.20)\n",
      "Requirement already satisfied: nest-asyncio in c:\\users\\91770\\anaconda3\\lib\\site-packages (from nbclient<0.6.0,>=0.5.0->nbconvert->jupyter-server~=1.4->jupyterlab<4.0.0a0,>=3.1.0->jupyterlab-lsp) (1.4.2)\n",
      "Requirement already satisfied: async-generator in c:\\users\\91770\\anaconda3\\lib\\site-packages (from nbclient<0.6.0,>=0.5.0->nbconvert->jupyter-server~=1.4->jupyterlab<4.0.0a0,>=3.1.0->jupyterlab-lsp) (1.10)\n",
      "Requirement already satisfied: webencodings in c:\\users\\91770\\anaconda3\\lib\\site-packages (from bleach->nbconvert->jupyter-server~=1.4->jupyterlab<4.0.0a0,>=3.1.0->jupyterlab-lsp) (0.5.1)\n"
     ]
    }
   ],
   "source": [
    "import pandas as pd\n",
    "import numpy as np\n",
    "import matplotlib.pyplot as plt\n",
    "import seaborn as sns\n",
    "%matplotlib inline\n",
    "\n",
    "%pip install nb_black\n",
    "%load_ext nb_black\n",
    "%pip install jupyterlab-lsp\n"
   ]
  },
  {
   "cell_type": "code",
   "execution_count": 114,
   "metadata": {},
   "outputs": [
    {
     "data": {
      "application/javascript": [
       "\n",
       "            setTimeout(function() {\n",
       "                var nbb_cell_id = 114;\n",
       "                var nbb_unformatted_code = \"airline = pd.read_csv(\\n    \\\"C:/Users/91770/Downloads/Compressed/data.tar 2/data/data/airlines.csv\\\"\\n)\";\n",
       "                var nbb_formatted_code = \"airline = pd.read_csv(\\n    \\\"C:/Users/91770/Downloads/Compressed/data.tar 2/data/data/airlines.csv\\\"\\n)\";\n",
       "                var nbb_cells = Jupyter.notebook.get_cells();\n",
       "                for (var i = 0; i < nbb_cells.length; ++i) {\n",
       "                    if (nbb_cells[i].input_prompt_number == nbb_cell_id) {\n",
       "                        if (nbb_cells[i].get_text() == nbb_unformatted_code) {\n",
       "                             nbb_cells[i].set_text(nbb_formatted_code);\n",
       "                        }\n",
       "                        break;\n",
       "                    }\n",
       "                }\n",
       "            }, 500);\n",
       "            "
      ],
      "text/plain": [
       "<IPython.core.display.Javascript object>"
      ]
     },
     "metadata": {},
     "output_type": "display_data"
    }
   ],
   "source": [
    "airline = pd.read_csv(\n",
    "    \"C:/Users/91770/Downloads/Compressed/data.tar 2/data/data/airlines.csv\"\n",
    ")"
   ]
  },
  {
   "cell_type": "code",
   "execution_count": 115,
   "metadata": {},
   "outputs": [
    {
     "data": {
      "application/javascript": [
       "\n",
       "            setTimeout(function() {\n",
       "                var nbb_cell_id = 115;\n",
       "                var nbb_unformatted_code = \"airports = pd.read_csv(\\n    \\\"C:/Users/91770/Downloads/Compressed/data.tar 2/data/data/airports.csv\\\"\\n)\";\n",
       "                var nbb_formatted_code = \"airports = pd.read_csv(\\n    \\\"C:/Users/91770/Downloads/Compressed/data.tar 2/data/data/airports.csv\\\"\\n)\";\n",
       "                var nbb_cells = Jupyter.notebook.get_cells();\n",
       "                for (var i = 0; i < nbb_cells.length; ++i) {\n",
       "                    if (nbb_cells[i].input_prompt_number == nbb_cell_id) {\n",
       "                        if (nbb_cells[i].get_text() == nbb_unformatted_code) {\n",
       "                             nbb_cells[i].set_text(nbb_formatted_code);\n",
       "                        }\n",
       "                        break;\n",
       "                    }\n",
       "                }\n",
       "            }, 500);\n",
       "            "
      ],
      "text/plain": [
       "<IPython.core.display.Javascript object>"
      ]
     },
     "metadata": {},
     "output_type": "display_data"
    }
   ],
   "source": [
    "airports = pd.read_csv(\n",
    "    \"C:/Users/91770/Downloads/Compressed/data.tar 2/data/data/airports.csv\"\n",
    ")"
   ]
  },
  {
   "cell_type": "code",
   "execution_count": 116,
   "metadata": {},
   "outputs": [
    {
     "data": {
      "application/javascript": [
       "\n",
       "            setTimeout(function() {\n",
       "                var nbb_cell_id = 116;\n",
       "                var nbb_unformatted_code = \"planes = pd.read_csv(\\n    \\\"C:/Users/91770/Downloads/Compressed/data.tar 2/data/data/planes.csv\\\"\\n)\";\n",
       "                var nbb_formatted_code = \"planes = pd.read_csv(\\n    \\\"C:/Users/91770/Downloads/Compressed/data.tar 2/data/data/planes.csv\\\"\\n)\";\n",
       "                var nbb_cells = Jupyter.notebook.get_cells();\n",
       "                for (var i = 0; i < nbb_cells.length; ++i) {\n",
       "                    if (nbb_cells[i].input_prompt_number == nbb_cell_id) {\n",
       "                        if (nbb_cells[i].get_text() == nbb_unformatted_code) {\n",
       "                             nbb_cells[i].set_text(nbb_formatted_code);\n",
       "                        }\n",
       "                        break;\n",
       "                    }\n",
       "                }\n",
       "            }, 500);\n",
       "            "
      ],
      "text/plain": [
       "<IPython.core.display.Javascript object>"
      ]
     },
     "metadata": {},
     "output_type": "display_data"
    }
   ],
   "source": [
    "planes = pd.read_csv(\n",
    "    \"C:/Users/91770/Downloads/Compressed/data.tar 2/data/data/planes.csv\"\n",
    ")"
   ]
  },
  {
   "cell_type": "code",
   "execution_count": 117,
   "metadata": {},
   "outputs": [
    {
     "data": {
      "application/javascript": [
       "\n",
       "            setTimeout(function() {\n",
       "                var nbb_cell_id = 117;\n",
       "                var nbb_unformatted_code = \"weather = pd.read_csv(\\n    \\\"C:/Users/91770/Downloads/Compressed/data.tar 2/data/data/weather.csv\\\"\\n)\";\n",
       "                var nbb_formatted_code = \"weather = pd.read_csv(\\n    \\\"C:/Users/91770/Downloads/Compressed/data.tar 2/data/data/weather.csv\\\"\\n)\";\n",
       "                var nbb_cells = Jupyter.notebook.get_cells();\n",
       "                for (var i = 0; i < nbb_cells.length; ++i) {\n",
       "                    if (nbb_cells[i].input_prompt_number == nbb_cell_id) {\n",
       "                        if (nbb_cells[i].get_text() == nbb_unformatted_code) {\n",
       "                             nbb_cells[i].set_text(nbb_formatted_code);\n",
       "                        }\n",
       "                        break;\n",
       "                    }\n",
       "                }\n",
       "            }, 500);\n",
       "            "
      ],
      "text/plain": [
       "<IPython.core.display.Javascript object>"
      ]
     },
     "metadata": {},
     "output_type": "display_data"
    }
   ],
   "source": [
    "weather = pd.read_csv(\n",
    "    \"C:/Users/91770/Downloads/Compressed/data.tar 2/data/data/weather.csv\"\n",
    ")"
   ]
  },
  {
   "cell_type": "code",
   "execution_count": 118,
   "metadata": {},
   "outputs": [
    {
     "data": {
      "application/javascript": [
       "\n",
       "            setTimeout(function() {\n",
       "                var nbb_cell_id = 118;\n",
       "                var nbb_unformatted_code = \"flights = pd.read_csv(\\n    \\\"C:/Users/91770/Downloads/Compressed/data.tar 2/data/data/flights.csv\\\"\\n)\";\n",
       "                var nbb_formatted_code = \"flights = pd.read_csv(\\n    \\\"C:/Users/91770/Downloads/Compressed/data.tar 2/data/data/flights.csv\\\"\\n)\";\n",
       "                var nbb_cells = Jupyter.notebook.get_cells();\n",
       "                for (var i = 0; i < nbb_cells.length; ++i) {\n",
       "                    if (nbb_cells[i].input_prompt_number == nbb_cell_id) {\n",
       "                        if (nbb_cells[i].get_text() == nbb_unformatted_code) {\n",
       "                             nbb_cells[i].set_text(nbb_formatted_code);\n",
       "                        }\n",
       "                        break;\n",
       "                    }\n",
       "                }\n",
       "            }, 500);\n",
       "            "
      ],
      "text/plain": [
       "<IPython.core.display.Javascript object>"
      ]
     },
     "metadata": {},
     "output_type": "display_data"
    }
   ],
   "source": [
    "flights = pd.read_csv(\n",
    "    \"C:/Users/91770/Downloads/Compressed/data.tar 2/data/data/flights.csv\"\n",
    ")"
   ]
  },
  {
   "cell_type": "markdown",
   "metadata": {},
   "source": [
    "# Total number of days flights table covered"
   ]
  },
  {
   "cell_type": "code",
   "execution_count": 119,
   "metadata": {},
   "outputs": [
    {
     "name": "stdout",
     "output_type": "stream",
     "text": [
      "347 days\n"
     ]
    },
    {
     "data": {
      "application/javascript": [
       "\n",
       "            setTimeout(function() {\n",
       "                var nbb_cell_id = 119;\n",
       "                var nbb_unformatted_code = \"flights1 = flights.copy()\\nflights1[\\\"year\\\"] = flights1.year.astype(str)\\nflights1[\\\"month\\\"] = flights1.month.astype(str)\\nflights1[\\\"day\\\"] = flights1.day.astype(str)\\nflights1[\\\"date\\\"] = flights1[\\\"year\\\"] + flights1[\\\"month\\\"] + flights1[\\\"day\\\"]\\nflights1[\\\"date\\\"] = pd.to_datetime(flights1.date, format=\\\"%Y%m%d\\\")\\ncols = list(flights1.columns)\\ncols.insert(0, cols.pop(cols.index(\\\"date\\\")))\\nflights1 = flights1.reindex(columns=cols)\\nflights1\\nflights1.drop(columns=[\\\"year\\\", \\\"month\\\", \\\"day\\\"], inplace=True)\\nprint((flights1.groupby(flights1.date)[\\\"date\\\"].count()).count(), \\\"days\\\")\\n# Alternate_way:  print(flights.date.value_counts().count(), \\\"days\\\")\\n\\n\\n# There are 347 days that flights table covered\";\n",
       "                var nbb_formatted_code = \"flights1 = flights.copy()\\nflights1[\\\"year\\\"] = flights1.year.astype(str)\\nflights1[\\\"month\\\"] = flights1.month.astype(str)\\nflights1[\\\"day\\\"] = flights1.day.astype(str)\\nflights1[\\\"date\\\"] = flights1[\\\"year\\\"] + flights1[\\\"month\\\"] + flights1[\\\"day\\\"]\\nflights1[\\\"date\\\"] = pd.to_datetime(flights1.date, format=\\\"%Y%m%d\\\")\\ncols = list(flights1.columns)\\ncols.insert(0, cols.pop(cols.index(\\\"date\\\")))\\nflights1 = flights1.reindex(columns=cols)\\nflights1\\nflights1.drop(columns=[\\\"year\\\", \\\"month\\\", \\\"day\\\"], inplace=True)\\nprint((flights1.groupby(flights1.date)[\\\"date\\\"].count()).count(), \\\"days\\\")\\n# Alternate_way:  print(flights.date.value_counts().count(), \\\"days\\\")\\n\\n\\n# There are 347 days that flights table covered\";\n",
       "                var nbb_cells = Jupyter.notebook.get_cells();\n",
       "                for (var i = 0; i < nbb_cells.length; ++i) {\n",
       "                    if (nbb_cells[i].input_prompt_number == nbb_cell_id) {\n",
       "                        if (nbb_cells[i].get_text() == nbb_unformatted_code) {\n",
       "                             nbb_cells[i].set_text(nbb_formatted_code);\n",
       "                        }\n",
       "                        break;\n",
       "                    }\n",
       "                }\n",
       "            }, 500);\n",
       "            "
      ],
      "text/plain": [
       "<IPython.core.display.Javascript object>"
      ]
     },
     "metadata": {},
     "output_type": "display_data"
    }
   ],
   "source": [
    "flights1 = flights.copy()\n",
    "flights1[\"year\"] = flights1.year.astype(str)\n",
    "flights1[\"month\"] = flights1.month.astype(str)\n",
    "flights1[\"day\"] = flights1.day.astype(str)\n",
    "flights1[\"date\"] = flights1[\"year\"] + flights1[\"month\"] + flights1[\"day\"]\n",
    "flights1[\"date\"] = pd.to_datetime(flights1.date, format=\"%Y%m%d\")\n",
    "cols = list(flights1.columns)\n",
    "cols.insert(0, cols.pop(cols.index(\"date\")))\n",
    "flights1 = flights1.reindex(columns=cols)\n",
    "flights1\n",
    "flights1.drop(columns=[\"year\", \"month\", \"day\"], inplace=True)\n",
    "print((flights1.groupby(flights1.date)[\"date\"].count()).count(), \"days\")\n",
    "# Alternate_way:  print(flights.date.value_counts().count(), \"days\")\n",
    "\n",
    "\n",
    "# There are 347 days that flights table covered"
   ]
  },
  {
   "cell_type": "markdown",
   "metadata": {},
   "source": [
    "# Total departure cities (not airports) flights database covered"
   ]
  },
  {
   "cell_type": "code",
   "execution_count": 120,
   "metadata": {},
   "outputs": [
    {
     "name": "stdout",
     "output_type": "stream",
     "text": [
      "2 Cities\n"
     ]
    },
    {
     "data": {
      "application/javascript": [
       "\n",
       "            setTimeout(function() {\n",
       "                var nbb_cell_id = 120;\n",
       "                var nbb_unformatted_code = \"flights_database = pd.merge(\\n    left=airports, right=flights1, how=\\\"inner\\\", left_on=\\\"IATA_CODE\\\", right_on=\\\"origin\\\"\\n)\\nprint(flights_database.CITY.value_counts().count(), \\\"Cities\\\")\\n\\n#Flights Database covered 2 departure cities or Origin cities\";\n",
       "                var nbb_formatted_code = \"flights_database = pd.merge(\\n    left=airports, right=flights1, how=\\\"inner\\\", left_on=\\\"IATA_CODE\\\", right_on=\\\"origin\\\"\\n)\\nprint(flights_database.CITY.value_counts().count(), \\\"Cities\\\")\\n\\n# Flights Database covered 2 departure cities or Origin cities\";\n",
       "                var nbb_cells = Jupyter.notebook.get_cells();\n",
       "                for (var i = 0; i < nbb_cells.length; ++i) {\n",
       "                    if (nbb_cells[i].input_prompt_number == nbb_cell_id) {\n",
       "                        if (nbb_cells[i].get_text() == nbb_unformatted_code) {\n",
       "                             nbb_cells[i].set_text(nbb_formatted_code);\n",
       "                        }\n",
       "                        break;\n",
       "                    }\n",
       "                }\n",
       "            }, 500);\n",
       "            "
      ],
      "text/plain": [
       "<IPython.core.display.Javascript object>"
      ]
     },
     "metadata": {},
     "output_type": "display_data"
    }
   ],
   "source": [
    "flights_database = pd.merge(\n",
    "    left=airports, right=flights1, how=\"inner\", left_on=\"IATA_CODE\", right_on=\"origin\"\n",
    ")\n",
    "print(flights_database.CITY.value_counts().count(), \"Cities\")\n",
    "\n",
    "# Flights Database covered 2 departure cities or Origin cities"
   ]
  },
  {
   "cell_type": "markdown",
   "metadata": {},
   "source": [
    "# Relationship between flights and planes tables?"
   ]
  },
  {
   "cell_type": "code",
   "execution_count": 210,
   "metadata": {},
   "outputs": [
    {
     "data": {
      "text/html": [
       "<div>\n",
       "<style scoped>\n",
       "    .dataframe tbody tr th:only-of-type {\n",
       "        vertical-align: middle;\n",
       "    }\n",
       "\n",
       "    .dataframe tbody tr th {\n",
       "        vertical-align: top;\n",
       "    }\n",
       "\n",
       "    .dataframe thead th {\n",
       "        text-align: right;\n",
       "    }\n",
       "</style>\n",
       "<table border=\"1\" class=\"dataframe\">\n",
       "  <thead>\n",
       "    <tr style=\"text-align: right;\">\n",
       "      <th></th>\n",
       "      <th>year</th>\n",
       "      <th>engines</th>\n",
       "      <th>seats</th>\n",
       "      <th>speed</th>\n",
       "      <th>dep_time</th>\n",
       "      <th>dep_delay</th>\n",
       "      <th>arr_time</th>\n",
       "      <th>arr_delay</th>\n",
       "      <th>flight</th>\n",
       "      <th>air_time</th>\n",
       "      <th>distance</th>\n",
       "      <th>hour</th>\n",
       "      <th>minute</th>\n",
       "    </tr>\n",
       "  </thead>\n",
       "  <tbody>\n",
       "    <tr>\n",
       "      <th>year</th>\n",
       "      <td>1.000000</td>\n",
       "      <td>0.065796</td>\n",
       "      <td>-0.162941</td>\n",
       "      <td>0.120625</td>\n",
       "      <td>0.031214</td>\n",
       "      <td>0.015354</td>\n",
       "      <td>-0.027320</td>\n",
       "      <td>0.017672</td>\n",
       "      <td>0.045595</td>\n",
       "      <td>-0.123666</td>\n",
       "      <td>-0.121753</td>\n",
       "      <td>0.031427</td>\n",
       "      <td>-0.007777</td>\n",
       "    </tr>\n",
       "    <tr>\n",
       "      <th>engines</th>\n",
       "      <td>0.065796</td>\n",
       "      <td>1.000000</td>\n",
       "      <td>0.126912</td>\n",
       "      <td>0.570919</td>\n",
       "      <td>0.001152</td>\n",
       "      <td>0.003750</td>\n",
       "      <td>0.004967</td>\n",
       "      <td>0.001844</td>\n",
       "      <td>0.031050</td>\n",
       "      <td>-0.007813</td>\n",
       "      <td>-0.008344</td>\n",
       "      <td>0.000931</td>\n",
       "      <td>0.005914</td>\n",
       "    </tr>\n",
       "    <tr>\n",
       "      <th>seats</th>\n",
       "      <td>-0.162941</td>\n",
       "      <td>0.126912</td>\n",
       "      <td>1.000000</td>\n",
       "      <td>0.956287</td>\n",
       "      <td>-0.056294</td>\n",
       "      <td>-0.054632</td>\n",
       "      <td>-0.000831</td>\n",
       "      <td>-0.072463</td>\n",
       "      <td>-0.594148</td>\n",
       "      <td>0.522736</td>\n",
       "      <td>0.537983</td>\n",
       "      <td>-0.056228</td>\n",
       "      <td>0.001772</td>\n",
       "    </tr>\n",
       "    <tr>\n",
       "      <th>speed</th>\n",
       "      <td>0.120625</td>\n",
       "      <td>0.570919</td>\n",
       "      <td>0.956287</td>\n",
       "      <td>1.000000</td>\n",
       "      <td>-0.124697</td>\n",
       "      <td>-0.016679</td>\n",
       "      <td>-0.089974</td>\n",
       "      <td>-0.024750</td>\n",
       "      <td>-0.162255</td>\n",
       "      <td>-0.053661</td>\n",
       "      <td>-0.031929</td>\n",
       "      <td>-0.127771</td>\n",
       "      <td>0.085354</td>\n",
       "    </tr>\n",
       "    <tr>\n",
       "      <th>dep_time</th>\n",
       "      <td>0.031214</td>\n",
       "      <td>0.001152</td>\n",
       "      <td>-0.056294</td>\n",
       "      <td>-0.124697</td>\n",
       "      <td>1.000000</td>\n",
       "      <td>0.259906</td>\n",
       "      <td>0.635529</td>\n",
       "      <td>0.232119</td>\n",
       "      <td>0.037673</td>\n",
       "      <td>-0.011977</td>\n",
       "      <td>-0.010620</td>\n",
       "      <td>0.999321</td>\n",
       "      <td>-0.044812</td>\n",
       "    </tr>\n",
       "    <tr>\n",
       "      <th>dep_delay</th>\n",
       "      <td>0.015354</td>\n",
       "      <td>0.003750</td>\n",
       "      <td>-0.054632</td>\n",
       "      <td>-0.016679</td>\n",
       "      <td>0.259906</td>\n",
       "      <td>1.000000</td>\n",
       "      <td>0.020401</td>\n",
       "      <td>0.916874</td>\n",
       "      <td>0.065878</td>\n",
       "      <td>-0.027429</td>\n",
       "      <td>-0.026690</td>\n",
       "      <td>0.261566</td>\n",
       "      <td>-0.061446</td>\n",
       "    </tr>\n",
       "    <tr>\n",
       "      <th>arr_time</th>\n",
       "      <td>-0.027320</td>\n",
       "      <td>0.004967</td>\n",
       "      <td>-0.000831</td>\n",
       "      <td>-0.089974</td>\n",
       "      <td>0.635529</td>\n",
       "      <td>0.020401</td>\n",
       "      <td>1.000000</td>\n",
       "      <td>0.014037</td>\n",
       "      <td>0.024653</td>\n",
       "      <td>0.056093</td>\n",
       "      <td>0.049192</td>\n",
       "      <td>0.635121</td>\n",
       "      <td>-0.029069</td>\n",
       "    </tr>\n",
       "    <tr>\n",
       "      <th>arr_delay</th>\n",
       "      <td>0.017672</td>\n",
       "      <td>0.001844</td>\n",
       "      <td>-0.072463</td>\n",
       "      <td>-0.024750</td>\n",
       "      <td>0.232119</td>\n",
       "      <td>0.916874</td>\n",
       "      <td>0.014037</td>\n",
       "      <td>1.000000</td>\n",
       "      <td>0.071288</td>\n",
       "      <td>-0.038870</td>\n",
       "      <td>-0.064555</td>\n",
       "      <td>0.233747</td>\n",
       "      <td>-0.058845</td>\n",
       "    </tr>\n",
       "    <tr>\n",
       "      <th>flight</th>\n",
       "      <td>0.045595</td>\n",
       "      <td>0.031050</td>\n",
       "      <td>-0.594148</td>\n",
       "      <td>-0.162255</td>\n",
       "      <td>0.037673</td>\n",
       "      <td>0.065878</td>\n",
       "      <td>0.024653</td>\n",
       "      <td>0.071288</td>\n",
       "      <td>1.000000</td>\n",
       "      <td>-0.453203</td>\n",
       "      <td>-0.464365</td>\n",
       "      <td>0.038056</td>\n",
       "      <td>-0.012777</td>\n",
       "    </tr>\n",
       "    <tr>\n",
       "      <th>air_time</th>\n",
       "      <td>-0.123666</td>\n",
       "      <td>-0.007813</td>\n",
       "      <td>0.522736</td>\n",
       "      <td>-0.053661</td>\n",
       "      <td>-0.011977</td>\n",
       "      <td>-0.027429</td>\n",
       "      <td>0.056093</td>\n",
       "      <td>-0.038870</td>\n",
       "      <td>-0.453203</td>\n",
       "      <td>1.000000</td>\n",
       "      <td>0.991203</td>\n",
       "      <td>-0.011058</td>\n",
       "      <td>-0.024158</td>\n",
       "    </tr>\n",
       "    <tr>\n",
       "      <th>distance</th>\n",
       "      <td>-0.121753</td>\n",
       "      <td>-0.008344</td>\n",
       "      <td>0.537983</td>\n",
       "      <td>-0.031929</td>\n",
       "      <td>-0.010620</td>\n",
       "      <td>-0.026690</td>\n",
       "      <td>0.049192</td>\n",
       "      <td>-0.064555</td>\n",
       "      <td>-0.464365</td>\n",
       "      <td>0.991203</td>\n",
       "      <td>1.000000</td>\n",
       "      <td>-0.009743</td>\n",
       "      <td>-0.023123</td>\n",
       "    </tr>\n",
       "    <tr>\n",
       "      <th>hour</th>\n",
       "      <td>0.031427</td>\n",
       "      <td>0.000931</td>\n",
       "      <td>-0.056228</td>\n",
       "      <td>-0.127771</td>\n",
       "      <td>0.999321</td>\n",
       "      <td>0.261566</td>\n",
       "      <td>0.635121</td>\n",
       "      <td>0.233747</td>\n",
       "      <td>0.038056</td>\n",
       "      <td>-0.011058</td>\n",
       "      <td>-0.009743</td>\n",
       "      <td>1.000000</td>\n",
       "      <td>-0.081580</td>\n",
       "    </tr>\n",
       "    <tr>\n",
       "      <th>minute</th>\n",
       "      <td>-0.007777</td>\n",
       "      <td>0.005914</td>\n",
       "      <td>0.001772</td>\n",
       "      <td>0.085354</td>\n",
       "      <td>-0.044812</td>\n",
       "      <td>-0.061446</td>\n",
       "      <td>-0.029069</td>\n",
       "      <td>-0.058845</td>\n",
       "      <td>-0.012777</td>\n",
       "      <td>-0.024158</td>\n",
       "      <td>-0.023123</td>\n",
       "      <td>-0.081580</td>\n",
       "      <td>1.000000</td>\n",
       "    </tr>\n",
       "  </tbody>\n",
       "</table>\n",
       "</div>"
      ],
      "text/plain": [
       "               year   engines     seats     speed  dep_time  dep_delay  \\\n",
       "year       1.000000  0.065796 -0.162941  0.120625  0.031214   0.015354   \n",
       "engines    0.065796  1.000000  0.126912  0.570919  0.001152   0.003750   \n",
       "seats     -0.162941  0.126912  1.000000  0.956287 -0.056294  -0.054632   \n",
       "speed      0.120625  0.570919  0.956287  1.000000 -0.124697  -0.016679   \n",
       "dep_time   0.031214  0.001152 -0.056294 -0.124697  1.000000   0.259906   \n",
       "dep_delay  0.015354  0.003750 -0.054632 -0.016679  0.259906   1.000000   \n",
       "arr_time  -0.027320  0.004967 -0.000831 -0.089974  0.635529   0.020401   \n",
       "arr_delay  0.017672  0.001844 -0.072463 -0.024750  0.232119   0.916874   \n",
       "flight     0.045595  0.031050 -0.594148 -0.162255  0.037673   0.065878   \n",
       "air_time  -0.123666 -0.007813  0.522736 -0.053661 -0.011977  -0.027429   \n",
       "distance  -0.121753 -0.008344  0.537983 -0.031929 -0.010620  -0.026690   \n",
       "hour       0.031427  0.000931 -0.056228 -0.127771  0.999321   0.261566   \n",
       "minute    -0.007777  0.005914  0.001772  0.085354 -0.044812  -0.061446   \n",
       "\n",
       "           arr_time  arr_delay    flight  air_time  distance      hour  \\\n",
       "year      -0.027320   0.017672  0.045595 -0.123666 -0.121753  0.031427   \n",
       "engines    0.004967   0.001844  0.031050 -0.007813 -0.008344  0.000931   \n",
       "seats     -0.000831  -0.072463 -0.594148  0.522736  0.537983 -0.056228   \n",
       "speed     -0.089974  -0.024750 -0.162255 -0.053661 -0.031929 -0.127771   \n",
       "dep_time   0.635529   0.232119  0.037673 -0.011977 -0.010620  0.999321   \n",
       "dep_delay  0.020401   0.916874  0.065878 -0.027429 -0.026690  0.261566   \n",
       "arr_time   1.000000   0.014037  0.024653  0.056093  0.049192  0.635121   \n",
       "arr_delay  0.014037   1.000000  0.071288 -0.038870 -0.064555  0.233747   \n",
       "flight     0.024653   0.071288  1.000000 -0.453203 -0.464365  0.038056   \n",
       "air_time   0.056093  -0.038870 -0.453203  1.000000  0.991203 -0.011058   \n",
       "distance   0.049192  -0.064555 -0.464365  0.991203  1.000000 -0.009743   \n",
       "hour       0.635121   0.233747  0.038056 -0.011058 -0.009743  1.000000   \n",
       "minute    -0.029069  -0.058845 -0.012777 -0.024158 -0.023123 -0.081580   \n",
       "\n",
       "             minute  \n",
       "year      -0.007777  \n",
       "engines    0.005914  \n",
       "seats      0.001772  \n",
       "speed      0.085354  \n",
       "dep_time  -0.044812  \n",
       "dep_delay -0.061446  \n",
       "arr_time  -0.029069  \n",
       "arr_delay -0.058845  \n",
       "flight    -0.012777  \n",
       "air_time  -0.024158  \n",
       "distance  -0.023123  \n",
       "hour      -0.081580  \n",
       "minute     1.000000  "
      ]
     },
     "execution_count": 210,
     "metadata": {},
     "output_type": "execute_result"
    },
    {
     "data": {
      "application/javascript": [
       "\n",
       "            setTimeout(function() {\n",
       "                var nbb_cell_id = 210;\n",
       "                var nbb_unformatted_code = \"planes_flights = pd.merge(\\n    left=planes, right=flights1, how=\\\"inner\\\", left_on=\\\"tailnum\\\", right_on=\\\"tailnum\\\"\\n)\\nplanes_flights1 = planes_flights.select_dtypes(([\\\"int64\\\", \\\"float64\\\"]))\\nplanes_flights1.corr()\";\n",
       "                var nbb_formatted_code = \"planes_flights = pd.merge(\\n    left=planes, right=flights1, how=\\\"inner\\\", left_on=\\\"tailnum\\\", right_on=\\\"tailnum\\\"\\n)\\nplanes_flights1 = planes_flights.select_dtypes(([\\\"int64\\\", \\\"float64\\\"]))\\nplanes_flights1.corr()\";\n",
       "                var nbb_cells = Jupyter.notebook.get_cells();\n",
       "                for (var i = 0; i < nbb_cells.length; ++i) {\n",
       "                    if (nbb_cells[i].input_prompt_number == nbb_cell_id) {\n",
       "                        if (nbb_cells[i].get_text() == nbb_unformatted_code) {\n",
       "                             nbb_cells[i].set_text(nbb_formatted_code);\n",
       "                        }\n",
       "                        break;\n",
       "                    }\n",
       "                }\n",
       "            }, 500);\n",
       "            "
      ],
      "text/plain": [
       "<IPython.core.display.Javascript object>"
      ]
     },
     "metadata": {},
     "output_type": "display_data"
    }
   ],
   "source": [
    "planes_flights = pd.merge(\n",
    "    left=planes, right=flights1, how=\"inner\", left_on=\"tailnum\", right_on=\"tailnum\"\n",
    ")\n",
    "planes_flights1 = planes_flights.select_dtypes(([\"int64\", \"float64\"]))\n",
    "planes_flights1.corr()"
   ]
  },
  {
   "cell_type": "code",
   "execution_count": 212,
   "metadata": {},
   "outputs": [
    {
     "data": {
      "image/png": "[encoded data removed]",
      "text/plain": [
       "<Figure size 864x576 with 2 Axes>"
      ]
     },
     "metadata": {
      "needs_background": "light"
     },
     "output_type": "display_data"
    },
    {
     "data": {
      "application/javascript": [
       "\n",
       "            setTimeout(function() {\n",
       "                var nbb_cell_id = 212;\n",
       "                var nbb_unformatted_code = \"from pylab import rcParams\\n\\nrcParams[\\\"figure.figsize\\\"] = (\\n    12,\\n    8,\\n)  # for increasing the width of chart for better display\\n\\nsns.heatmap(planes_flights.select_dtypes([\\\"int64\\\", \\\"float64\\\"]).corr(), annot=True)\\nplt.show()\";\n",
       "                var nbb_formatted_code = \"from pylab import rcParams\\n\\nrcParams[\\\"figure.figsize\\\"] = (\\n    12,\\n    8,\\n)  # for increasing the width of chart for better display\\n\\nsns.heatmap(planes_flights.select_dtypes([\\\"int64\\\", \\\"float64\\\"]).corr(), annot=True)\\nplt.show()\";\n",
       "                var nbb_cells = Jupyter.notebook.get_cells();\n",
       "                for (var i = 0; i < nbb_cells.length; ++i) {\n",
       "                    if (nbb_cells[i].input_prompt_number == nbb_cell_id) {\n",
       "                        if (nbb_cells[i].get_text() == nbb_unformatted_code) {\n",
       "                             nbb_cells[i].set_text(nbb_formatted_code);\n",
       "                        }\n",
       "                        break;\n",
       "                    }\n",
       "                }\n",
       "            }, 500);\n",
       "            "
      ],
      "text/plain": [
       "<IPython.core.display.Javascript object>"
      ]
     },
     "metadata": {},
     "output_type": "display_data"
    }
   ],
   "source": [
    "from pylab import rcParams\n",
    "\n",
    "rcParams[\"figure.figsize\"] = (\n",
    "    12,\n",
    "    8,\n",
    ")  # for increasing the width of chart for better display\n",
    "\n",
    "sns.heatmap(planes_flights.select_dtypes([\"int64\", \"float64\"]).corr(), annot=True)\n",
    "plt.show()"
   ]
  },
  {
   "cell_type": "markdown",
   "metadata": {},
   "source": [
    "### As we see in the heatmap and correlation table between variables of flights and planes tables, \n",
    "### here are the few points on the relation between two tables:\n",
    "\n",
    "#### 'seats' is positively correlated with 'distance' which means larger planes are more likely used for long distance travels by manufacturer\n",
    "\n",
    "#### 'engines' is negatively correlated with 'air_time' which means planes with more engines are taking less time to reach to destination\n",
    "\n",
    "#### 'year' is negatively correlated with 'air_time' which means newer planes are taking less time to reach to destination\n",
    "\n",
    "#### dep_delay is less with planes with higher speed\n",
    "\n",
    "#### newer planes are used more for long distance travels as 'year' is negatively correlated with 'distance'"
   ]
  },
  {
   "cell_type": "markdown",
   "metadata": {},
   "source": [
    "# Airplane manufacturer incurred the most delays in the analysis period"
   ]
  },
  {
   "cell_type": "code",
   "execution_count": 192,
   "metadata": {},
   "outputs": [
    {
     "data": {
      "text/html": [
       "<div>\n",
       "<style scoped>\n",
       "    .dataframe tbody tr th:only-of-type {\n",
       "        vertical-align: middle;\n",
       "    }\n",
       "\n",
       "    .dataframe tbody tr th {\n",
       "        vertical-align: top;\n",
       "    }\n",
       "\n",
       "    .dataframe thead th {\n",
       "        text-align: right;\n",
       "    }\n",
       "</style>\n",
       "<table border=\"1\" class=\"dataframe\">\n",
       "  <thead>\n",
       "    <tr style=\"text-align: right;\">\n",
       "      <th></th>\n",
       "      <th>dep_delay</th>\n",
       "    </tr>\n",
       "    <tr>\n",
       "      <th>manufacturer</th>\n",
       "      <th></th>\n",
       "    </tr>\n",
       "  </thead>\n",
       "  <tbody>\n",
       "    <tr>\n",
       "      <th>BOEING</th>\n",
       "      <td>37208</td>\n",
       "    </tr>\n",
       "  </tbody>\n",
       "</table>\n",
       "</div>"
      ],
      "text/plain": [
       "              dep_delay\n",
       "manufacturer           \n",
       "BOEING            37208"
      ]
     },
     "execution_count": 192,
     "metadata": {},
     "output_type": "execute_result"
    },
    {
     "data": {
      "application/javascript": [
       "\n",
       "            setTimeout(function() {\n",
       "                var nbb_cell_id = 192;\n",
       "                var nbb_unformatted_code = \"planes_flights = pd.merge(\\n    left=planes, right=flights1, how=\\\"inner\\\", left_on=\\\"tailnum\\\", right_on=\\\"tailnum\\\"\\n)\\n\\nplanes_flights.dropna(\\n    axis=0, how=\\\"any\\\", subset=[\\\"dep_delay\\\", \\\"manufacturer\\\"], inplace=True\\n)\\n# removing missing values \\n\\nManufacturer_delays_analysis = pd.DataFrame(\\n    planes_flights[planes_flights.dep_delay > 0]\\n    .groupby(\\\"manufacturer\\\")[\\\"dep_delay\\\"]\\n    .count()\\n)\\n\\n\\nManufacturer_delays_analysis.sort_values(by=\\\"dep_delay\\\", ascending=False).head(1)\\n\\n#Airplane Manufacturer BOEING have incurred most delays\";\n",
       "                var nbb_formatted_code = \"planes_flights = pd.merge(\\n    left=planes, right=flights1, how=\\\"inner\\\", left_on=\\\"tailnum\\\", right_on=\\\"tailnum\\\"\\n)\\n\\nplanes_flights.dropna(\\n    axis=0, how=\\\"any\\\", subset=[\\\"dep_delay\\\", \\\"manufacturer\\\"], inplace=True\\n)\\n# removing missing values\\n\\nManufacturer_delays_analysis = pd.DataFrame(\\n    planes_flights[planes_flights.dep_delay > 0]\\n    .groupby(\\\"manufacturer\\\")[\\\"dep_delay\\\"]\\n    .count()\\n)\\n\\n\\nManufacturer_delays_analysis.sort_values(by=\\\"dep_delay\\\", ascending=False).head(1)\\n\\n# Airplane Manufacturer BOEING have incurred most delays\";\n",
       "                var nbb_cells = Jupyter.notebook.get_cells();\n",
       "                for (var i = 0; i < nbb_cells.length; ++i) {\n",
       "                    if (nbb_cells[i].input_prompt_number == nbb_cell_id) {\n",
       "                        if (nbb_cells[i].get_text() == nbb_unformatted_code) {\n",
       "                             nbb_cells[i].set_text(nbb_formatted_code);\n",
       "                        }\n",
       "                        break;\n",
       "                    }\n",
       "                }\n",
       "            }, 500);\n",
       "            "
      ],
      "text/plain": [
       "<IPython.core.display.Javascript object>"
      ]
     },
     "metadata": {},
     "output_type": "display_data"
    }
   ],
   "source": [
    "planes_flights = pd.merge(\n",
    "    left=planes, right=flights1, how=\"inner\", left_on=\"tailnum\", right_on=\"tailnum\"\n",
    ")\n",
    "\n",
    "planes_flights.dropna(\n",
    "    axis=0, how=\"any\", subset=[\"dep_delay\", \"manufacturer\"], inplace=True\n",
    ")\n",
    "# removing rows with missing values\n",
    "\n",
    "Manufacturer_delays_analysis = pd.DataFrame(\n",
    "    planes_flights[planes_flights.dep_delay > 0]\n",
    "    .groupby(\"manufacturer\")[\"dep_delay\"]\n",
    "    .count()\n",
    ")\n",
    "\n",
    "\n",
    "Manufacturer_delays_analysis.sort_values(by=\"dep_delay\", ascending=False).head(1)\n",
    "\n",
    "# Airplane Manufacturer BOEING have incurred most delays"
   ]
  },
  {
   "cell_type": "markdown",
   "metadata": {},
   "source": [
    "# Two most connected cities"
   ]
  },
  {
   "cell_type": "code",
   "execution_count": 350,
   "metadata": {},
   "outputs": [
    {
     "data": {
      "text/plain": [
       "origin  dest  CITY       \n",
       "JFK     LAX   Los Angeles    11262\n",
       "Name: dest, dtype: int64"
      ]
     },
     "execution_count": 350,
     "metadata": {},
     "output_type": "execute_result"
    },
    {
     "data": {
      "application/javascript": [
       "\n",
       "            setTimeout(function() {\n",
       "                var nbb_cell_id = 350;\n",
       "                var nbb_unformatted_code = \"Connected_Cities = pd.merge(\\n    left=airports, right=flights1, how=\\\"inner\\\", left_on=\\\"IATA_CODE\\\", right_on=\\\"dest\\\"\\n)\\n\\nConnected_Cities = Connected_Cities[[\\\"origin\\\", \\\"dest\\\", \\\"CITY\\\"]]\\n\\nanalysis = Connected_Cities.groupby([\\\"origin\\\", \\\"dest\\\", \\\"CITY\\\"])[\\\"dest\\\"].count()\\nanalysis.sort_values(ascending=False).head(1)\\n\\n# New York(JFK) is connected most to Los Angeles(LAX) as there are more flights running b/w these 2 then any other cities acc. to database\";\n",
       "                var nbb_formatted_code = \"Connected_Cities = pd.merge(\\n    left=airports, right=flights1, how=\\\"inner\\\", left_on=\\\"IATA_CODE\\\", right_on=\\\"dest\\\"\\n)\\n\\nConnected_Cities = Connected_Cities[[\\\"origin\\\", \\\"dest\\\", \\\"CITY\\\"]]\\n\\nanalysis = Connected_Cities.groupby([\\\"origin\\\", \\\"dest\\\", \\\"CITY\\\"])[\\\"dest\\\"].count()\\nanalysis.sort_values(ascending=False).head(1)\\n\\n# New York(JFK) is connected most to Los Angeles(LAX) as there are more flights running b/w these 2 then any other cities acc. to database\";\n",
       "                var nbb_cells = Jupyter.notebook.get_cells();\n",
       "                for (var i = 0; i < nbb_cells.length; ++i) {\n",
       "                    if (nbb_cells[i].input_prompt_number == nbb_cell_id) {\n",
       "                        if (nbb_cells[i].get_text() == nbb_unformatted_code) {\n",
       "                             nbb_cells[i].set_text(nbb_formatted_code);\n",
       "                        }\n",
       "                        break;\n",
       "                    }\n",
       "                }\n",
       "            }, 500);\n",
       "            "
      ],
      "text/plain": [
       "<IPython.core.display.Javascript object>"
      ]
     },
     "metadata": {},
     "output_type": "display_data"
    }
   ],
   "source": [
    "Connected_Cities = pd.merge(\n",
    "    left=airports, right=flights1, how=\"inner\", left_on=\"IATA_CODE\", right_on=\"dest\"\n",
    ")\n",
    "\n",
    "Connected_Cities = Connected_Cities[[\"origin\", \"dest\", \"CITY\"]]\n",
    "\n",
    "analysis = Connected_Cities.groupby([\"origin\", \"dest\", \"CITY\"])[\"dest\"].count()\n",
    "analysis.sort_values(ascending=False).head(1)\n",
    "\n",
    "# New York(JFK) is connected most to Los Angeles(LAX) as there are more flights running b/w these 2 then any other cities acc. to database"
   ]
  }
 ],
 "metadata": {
  "kernelspec": {
   "display_name": "Python 3",
   "language": "python",
   "name": "python3"
  },
  "language_info": {
   "codemirror_mode": {
    "name": "ipython",
    "version": 3
   },
   "file_extension": ".py",
   "mimetype": "text/x-python",
   "name": "python",
   "nbconvert_exporter": "python",
   "pygments_lexer": "ipython3",
   "version": "3.8.5"
  }
 },
 "nbformat": 4,
 "nbformat_minor": 4
}
